{
 "cells": [
  {
   "cell_type": "markdown",
   "id": "404b48be-6e11-4539-8524-4213162d909c",
   "metadata": {},
   "source": [
    "# \tInvestigating gene expression patterns across different neuroblastoma conditions using single-cell RNA-seq data\n",
    " \n",
    "Note that the workflow in this notebook is adapted from the standard scRNA-seq data analysis procedure at <https://scanpy.readthedocs.io/en/stable/tutorials/basics/clustering.html>, under the BSD 3-Clause License at <https://github.com/scverse/scanpy/blob/a22997e106d0e7ff944967613d71c2d41d0da89a/LICENSE>\n",
    "\n",
    "The data is obtained from \"Fetahu IS, Esser-Skala W, Dnyansagar R, Sindelar S et al. Single-cell transcriptomics and epigenomics unravel the role of monocytes in neuroblastoma bone marrow metastasis. Nat Commun 2023 Jun 26;14(1):3620. PMID: 37365178\"\n",
    "\n",
    "## Preprocessing and clustering"
   ]
  },
  {
   "cell_type": "code",
   "execution_count": 1,
   "id": "f1990713-5968-4fc7-aeb6-5a842606fd8c",
   "metadata": {},
   "outputs": [],
   "source": [
    "import scanpy as sc\n",
    "import anndata as ad\n",
    "import numpy as np\n",
    "import pandas as pd\n",
    "import matplotlib.pyplot as plt\n",
    "import scipy\n",
    "import seaborn as sns"
   ]
  },
  {
   "cell_type": "code",
   "execution_count": 2,
   "id": "161629d6-b1b6-4faa-8bca-01a841e0ec10",
   "metadata": {},
   "outputs": [],
   "source": [
    "# Setting parameters for figure configuration  \n",
    "sc.settings.set_figure_params(dpi=300)"
   ]
  },
  {
   "cell_type": "code",
   "execution_count": 3,
   "id": "7e006e3a",
   "metadata": {},
   "outputs": [],
   "source": [
    "# Define sample dictionary for analysis: \n",
    "# - Controls 2 and 3: benign tumors (ganglioblastoma and ganglioneuroma) without bone marrow (BM) metastases, used as controls (n=2).\n",
    "# - Metastatic neuroblastoma M3,M4 with MYCN-amplified, (n=2). \n",
    "## MYCN: An oncogene often amplified in neuroblastoma, associated with aggressive tumor growth and poor prognosis. \n",
    "## Amplification of MYCN is a defining characteristic in one of the metastatic neuroblastoma subtypes.\n",
    "\n",
    "sample_id_fn_dict = {\n",
    "    \"C3\" : \"/Users/sangeevanvellappan/Desktop/Erdos_Nov2024/Data/GSM6659416_C3_filtered_feature_bc_matrix.h5\",\n",
    "    \"C2\" : \"/Users/sangeevanvellappan/Desktop/Erdos_Nov2024/Data/GSM6659415_C2_filtered_feature_bc_matrix.h5\",\n",
    "    \"M3\" : \"/Users/sangeevanvellappan/Desktop/Erdos_Nov2024/Data/GSM6659422_M3_filtered_feature_bc_matrix.h5\",\n",
    "    \"M4\": \"/Users/sangeevanvellappan/Desktop/Erdos_Nov2024/Data/GSM6659423_M4_filtered_feature_bc_matrix.h5\",\n",
    "}\n",
    "\n",
    "ann_data_dict = {}"
   ]
  },
  {
   "cell_type": "code",
   "execution_count": 4,
   "id": "64f04e09",
   "metadata": {
    "scrolled": true
   },
   "outputs": [
    {
     "name": "stdout",
     "output_type": "stream",
     "text": [
      "C3\n"
     ]
    },
    {
     "name": "stderr",
     "output_type": "stream",
     "text": [
      "/Users/sangeevanvellappan/anaconda3/envs/workshop_2024_v2/lib/python3.9/site-packages/anndata/_core/anndata.py:1820: UserWarning: Variable names are not unique. To make them unique, call `.var_names_make_unique`.\n",
      "  utils.warn_names_duplicates(\"var\")\n",
      "/Users/sangeevanvellappan/anaconda3/envs/workshop_2024_v2/lib/python3.9/site-packages/anndata/_core/anndata.py:1820: UserWarning: Variable names are not unique. To make them unique, call `.var_names_make_unique`.\n",
      "  utils.warn_names_duplicates(\"var\")\n"
     ]
    },
    {
     "name": "stdout",
     "output_type": "stream",
     "text": [
      "C2\n"
     ]
    },
    {
     "name": "stderr",
     "output_type": "stream",
     "text": [
      "/Users/sangeevanvellappan/anaconda3/envs/workshop_2024_v2/lib/python3.9/site-packages/anndata/_core/anndata.py:1820: UserWarning: Variable names are not unique. To make them unique, call `.var_names_make_unique`.\n",
      "  utils.warn_names_duplicates(\"var\")\n",
      "/Users/sangeevanvellappan/anaconda3/envs/workshop_2024_v2/lib/python3.9/site-packages/anndata/_core/anndata.py:1820: UserWarning: Variable names are not unique. To make them unique, call `.var_names_make_unique`.\n",
      "  utils.warn_names_duplicates(\"var\")\n"
     ]
    },
    {
     "name": "stdout",
     "output_type": "stream",
     "text": [
      "M3\n"
     ]
    },
    {
     "name": "stderr",
     "output_type": "stream",
     "text": [
      "/Users/sangeevanvellappan/anaconda3/envs/workshop_2024_v2/lib/python3.9/site-packages/anndata/_core/anndata.py:1820: UserWarning: Variable names are not unique. To make them unique, call `.var_names_make_unique`.\n",
      "  utils.warn_names_duplicates(\"var\")\n",
      "/Users/sangeevanvellappan/anaconda3/envs/workshop_2024_v2/lib/python3.9/site-packages/anndata/_core/anndata.py:1820: UserWarning: Variable names are not unique. To make them unique, call `.var_names_make_unique`.\n",
      "  utils.warn_names_duplicates(\"var\")\n"
     ]
    },
    {
     "name": "stdout",
     "output_type": "stream",
     "text": [
      "M4\n"
     ]
    },
    {
     "name": "stderr",
     "output_type": "stream",
     "text": [
      "/Users/sangeevanvellappan/anaconda3/envs/workshop_2024_v2/lib/python3.9/site-packages/anndata/_core/anndata.py:1820: UserWarning: Variable names are not unique. To make them unique, call `.var_names_make_unique`.\n",
      "  utils.warn_names_duplicates(\"var\")\n",
      "/Users/sangeevanvellappan/anaconda3/envs/workshop_2024_v2/lib/python3.9/site-packages/anndata/_core/anndata.py:1820: UserWarning: Variable names are not unique. To make them unique, call `.var_names_make_unique`.\n",
      "  utils.warn_names_duplicates(\"var\")\n"
     ]
    }
   ],
   "source": [
    "# Loop through each sample ID and file path in the sample dictionary\n",
    "for sid, fn in sample_id_fn_dict.items():\n",
    "    print(sid)  # Print the sample ID to track progress\n",
    "    sa = sc.read_10x_h5(fn)  # Read the single-cell data from the H5 file for the current sample\n",
    "    sa.var_names_make_unique()  # Ensure unique variable names in case of duplicates\n",
    "    ann_data_dict[sid] = sa  # Store the annotated data in the dictionary with sample ID as the key"
   ]
  },
  {
   "cell_type": "code",
   "execution_count": 5,
   "id": "9bdf7f10-e9b9-4929-a7e2-7ac373d769d1",
   "metadata": {},
   "outputs": [
    {
     "name": "stdout",
     "output_type": "stream",
     "text": [
      "batch_id\n",
      "C2    6668\n",
      "M4    6257\n",
      "C3    5710\n",
      "M3    5195\n",
      "Name: count, dtype: int64\n"
     ]
    },
    {
     "data": {
      "text/plain": [
       "AnnData object with n_obs × n_vars = 23830 × 33538\n",
       "    obs: 'batch_id'"
      ]
     },
     "execution_count": 5,
     "metadata": {},
     "output_type": "execute_result"
    }
   ],
   "source": [
    "# Concatenate all annotated data objects from the dictionary into a single AnnData object\n",
    "# - `label='batch_id'` adds a column 'batch_id' in the .obs attribute, indicating the sample ID for each observation\n",
    "# - `axis=0` concatenates along the rows (cells), combining all samples vertically\n",
    "# - `join='inner'` keeps only the variables (genes) that are common across all samples\n",
    "# - `index_unique='-'` appends '-' to duplicate observation names to make them unique\n",
    "# - `fill_value=0` fills missing values with 0 for any sparse data\n",
    "ann_data = ad.concat(ann_data_dict, label='batch_id', axis=0, join='inner', index_unique='-', fill_value=0)\n",
    "\n",
    "# Ensure that observation names (cell IDs) are unique across the combined AnnData object\n",
    "ann_data.obs_names_make_unique()\n",
    "\n",
    "# Print the count of cells in each sample (batch) after concatenation\n",
    "print(ann_data.obs[\"batch_id\"].value_counts())\n",
    "\n",
    "# Display the combined AnnData object\n",
    "ann_data\n"
   ]
  },
  {
   "cell_type": "code",
   "execution_count": 6,
   "id": "e19c93ca-a9de-4b7c-b8e2-d99bdb181ef7",
   "metadata": {},
   "outputs": [],
   "source": [
    "# Ensure that variable names (typically gene names) are unique across the combined AnnData object.\n",
    "# This is useful to avoid conflicts in case there are duplicate gene names across different samples.\n",
    "ann_data.var_names_make_unique()\n"
   ]
  },
  {
   "cell_type": "code",
   "execution_count": 7,
   "id": "416b567e-9592-430e-8b77-72ff07d988e5",
   "metadata": {},
   "outputs": [
    {
     "data": {
      "text/plain": [
       "AnnData object with n_obs × n_vars = 23830 × 33538\n",
       "    obs: 'batch_id'"
      ]
     },
     "execution_count": 7,
     "metadata": {},
     "output_type": "execute_result"
    }
   ],
   "source": [
    "ann_data"
   ]
  },
  {
   "cell_type": "markdown",
   "id": "c673fe14-df28-4d53-abf6-3a852040e571",
   "metadata": {},
   "source": [
    "The data contains between 5,000-6000 cells per sample and 33,538 measured genes. We'll now investigate these with a basic preprocessing and clustering workflow."
   ]
  },
  {
   "cell_type": "markdown",
   "id": "e306dde3-b587-4561-b5ec-e8a2ac5e2c13",
   "metadata": {},
   "source": [
    "## Quality Control"
   ]
  },
  {
   "cell_type": "code",
   "execution_count": 8,
   "id": "cd3a4a6e-1a68-4ca1-ad6d-4ad10ebc1982",
   "metadata": {},
   "outputs": [],
   "source": [
    "# Calculate quality control (QC) metrics for the AnnData object, including the total counts per cell,\n",
    "# number of genes expressed per cell, and mitochondrial gene content, adding these metrics directly to the AnnData.\n",
    "sc.pp.calculate_qc_metrics(ann_data, inplace=True)"
   ]
  },
  {
   "cell_type": "code",
   "execution_count": 9,
   "id": "dc77cbf2-84cd-4d93-84ce-693ff89a0314",
   "metadata": {},
   "outputs": [
    {
     "data": {
      "text/plain": [
       "(0.0, 500.0)"
      ]
     },
     "execution_count": 9,
     "metadata": {},
     "output_type": "execute_result"
    },
    {
     "data": {
      "image/png": "[encoded data removed]",
      "text/plain": [
       "<Figure size 1600x600 with 2 Axes>"
      ]
     },
     "metadata": {},
     "output_type": "display_data"
    }
   ],
   "source": [
    "# Plot distribution of the number of cells in which each gene is expressed (log-transformed).\n",
    "# The left panel shows the full histogram, while the right panel trims the y-axis for better visualization of low-frequency bins.\n",
    "fig = plt.figure(figsize=(16, 6))\n",
    "\n",
    "# Full distribution\n",
    "ax = fig.add_subplot(1, 2, 1)\n",
    "ax.hist(np.log2(ann_data.var['n_cells_by_counts'] + 1), bins=100)\n",
    "ax.set_xlabel('Log-N cells per gene', fontsize=14)\n",
    "ax.set_ylabel('Frequency', fontsize=14)\n",
    "\n",
    "# Trimmed y-axis for better visualization\n",
    "ax = fig.add_subplot(1, 2, 2)\n",
    "ax.hist(np.log2(ann_data.var['n_cells_by_counts'] + 1), bins=100)\n",
    "ax.set_xlabel('Log-N cells per gene', fontsize=14)\n",
    "ax.set_ylabel('Frequency (trimmed y-axis)', fontsize=14)\n",
    "ax.set_ylim([0, 500])  # Limit y-axis to highlight lower frequencies\n"
   ]
  },
  {
   "cell_type": "markdown",
   "id": "6ce9dc18-1154-4f1d-8a84-bae78473a7d6",
   "metadata": {},
   "source": [
    "# Interpretation of the Distribution:\n",
    "In single-cell RNA sequencing (scRNA-seq), it is common to observe that many genes are expressed in only a small subset of cells (hence the high bars on the left side of the distribution). This pattern reflects the inherent heterogeneity in cell types, with each cell type expressing only a subset of all possible genes.\n",
    "The goal of plotting this distribution is to assess the spread of gene expression across cells and to identify an appropriate threshold for filtering out low-expressed genes."
   ]
  },
  {
   "cell_type": "code",
   "execution_count": 10,
   "id": "60ce9804-8ffc-4645-bc19-4fe0a2fc371c",
   "metadata": {},
   "outputs": [],
   "source": [
    "# Considering the large size of the dataset, and that we are comparing two conditions, we will remove genes expressed in less than 50 cells: \n",
    "sc.pp.filter_genes(ann_data, min_cells=100)"
   ]
  },
  {
   "cell_type": "code",
   "execution_count": 11,
   "id": "e47e8000-1d7d-4879-bfd2-20a37c912424",
   "metadata": {},
   "outputs": [
    {
     "data": {
      "text/plain": [
       "AnnData object with n_obs × n_vars = 23830 × 15186\n",
       "    obs: 'batch_id', 'n_genes_by_counts', 'log1p_n_genes_by_counts', 'total_counts', 'log1p_total_counts', 'pct_counts_in_top_50_genes', 'pct_counts_in_top_100_genes', 'pct_counts_in_top_200_genes', 'pct_counts_in_top_500_genes'\n",
       "    var: 'n_cells_by_counts', 'mean_counts', 'log1p_mean_counts', 'pct_dropout_by_counts', 'total_counts', 'log1p_total_counts', 'n_cells'"
      ]
     },
     "execution_count": 11,
     "metadata": {},
     "output_type": "execute_result"
    }
   ],
   "source": [
    "ann_data"
   ]
  },
  {
   "cell_type": "code",
   "execution_count": 13,
   "id": "a550072a-3a8f-48db-915f-878c6615762e",
   "metadata": {},
   "outputs": [],
   "source": [
    "# Identify Mithocondrial-genes. Removing mitochondrial genes is a common preprocessing step in single-cell RNA-seq analysis because high mitochondrial gene expression can be a sign of stressed or dying cells.\n",
    "mito_genes = ann_data.var_names[ann_data.var_names.str.startswith('MT-')]"
   ]
  },
  {
   "cell_type": "code",
   "execution_count": 14,
   "id": "a3a15d08-c3e9-4cb9-9438-68dffc1b1c67",
   "metadata": {},
   "outputs": [],
   "source": [
    "# now we need the row sum of the subsetted data to compute % mito content\n",
    "row_sum_adata_mito = np.sum(ann_data[:, mito_genes].X.toarray(), axis = 1)"
   ]
  },
  {
   "cell_type": "code",
   "execution_count": 15,
   "id": "d2af4c4b-8279-43bb-af29-8083a035aa70",
   "metadata": {},
   "outputs": [],
   "source": [
    "# compute the % of mito content by dividing the above result by library size\n",
    "ann_data.obs['pct_counts_mt'] = row_sum_adata_mito/ann_data.obs['total_counts'] * 100"
   ]
  },
  {
   "cell_type": "code",
   "execution_count": 16,
   "id": "75df4b20-29ca-4e12-a878-94698a1b67d2",
   "metadata": {},
   "outputs": [],
   "source": [
    "# mitochondrial genes, \"MT-\" for human\n",
    "ann_data.var[\"mt\"] = ann_data.var_names.str.startswith(\"MT-\")\n",
    "# ribosomal genes\n",
    "ann_data.var[\"ribo\"] = ann_data.var_names.str.startswith((\"RPS\", \"RPL\"))\n",
    "# hemoglobin genes\n",
    "ann_data.var[\"hb\"] = ann_data.var_names.str.contains(\"^HB[^(P)]\")"
   ]
  },
  {
   "cell_type": "code",
   "execution_count": 17,
   "id": "ad498754-a7c1-4df4-bb1e-4983e9371eb6",
   "metadata": {},
   "outputs": [
    {
     "data": {
      "image/png": "[encoded data removed]",
      "text/plain": [
       "<Figure size 640x480 with 1 Axes>"
      ]
     },
     "metadata": {},
     "output_type": "display_data"
    }
   ],
   "source": [
    "plt.hist(ann_data.obs['pct_counts_mt'], 100);"
   ]
  },
  {
   "cell_type": "code",
   "execution_count": 18,
   "id": "fb190869-ffcc-4307-a842-7b8dd1e29373",
   "metadata": {},
   "outputs": [],
   "source": [
    "# Ribosomal genes (those starting with \"RPS\" for ribosomal protein small subunit and \"RPL\" for ribosomal protein large subunit) are also often filtered out in single-cell RNA-seq analysis because they can dominate the transcriptional profile. High ribosomal gene expression can indicate cells in high metabolic or proliferative states, which might skew analyses, especially when the focus is on non-proliferative cellular signals. Removing these genes helps focus on more informative genes relevant to cell identity and function, reducing technical noise and improving the interpretability of cell clusters.\n",
    "ribo_genes = ann_data.var_names[ann_data.var_names.str.startswith(('RPS', 'RPL'))]"
   ]
  },
  {
   "cell_type": "code",
   "execution_count": 19,
   "id": "475ff02e-44df-4aac-be90-256e72cd3ac0",
   "metadata": {},
   "outputs": [],
   "source": [
    "# now we need the row sum of the subsetted data to compute % mito content\n",
    "row_sum_adata_ribo = np.sum(ann_data[:, ribo_genes].X.toarray(), axis = 1)"
   ]
  },
  {
   "cell_type": "code",
   "execution_count": 20,
   "id": "60c1c970-5dd2-4bb4-8897-2c5abd697005",
   "metadata": {},
   "outputs": [],
   "source": [
    "# compute the % of ribo content by dividing the above result by library size\n",
    "ann_data.obs['pct_counts_ribo'] = row_sum_adata_ribo/ann_data.obs['total_counts'] * 100"
   ]
  },
  {
   "cell_type": "code",
   "execution_count": 21,
   "id": "d7757d1e-147d-4f2e-bda6-700999924b1e",
   "metadata": {},
   "outputs": [
    {
     "data": {
      "image/png": "[encoded data removed]",
      "text/plain": [
       "<Figure size 640x480 with 1 Axes>"
      ]
     },
     "metadata": {},
     "output_type": "display_data"
    }
   ],
   "source": [
    "plt.hist(ann_data.obs['pct_counts_ribo'], 100);"
   ]
  },
  {
   "cell_type": "markdown",
   "id": "9d157e70-595c-446d-b347-c7f899c8ccb7",
   "metadata": {},
   "source": [
    "For the sake of exposition, the following code removes cells with MT-content greater than 25%."
   ]
  },
  {
   "cell_type": "code",
   "execution_count": 26,
   "id": "e25b047e-9fef-4b2e-9bc3-726b32e0def9",
   "metadata": {},
   "outputs": [],
   "source": [
    "adata_clean = ann_data[ann_data.obs['pct_counts_mt'] < 15, :]"
   ]
  },
  {
   "cell_type": "code",
   "execution_count": 27,
   "id": "1237ebbc-625f-49be-bc3c-f7272944873b",
   "metadata": {},
   "outputs": [
    {
     "data": {
      "text/plain": [
       "View of AnnData object with n_obs × n_vars = 20382 × 15186\n",
       "    obs: 'batch_id', 'n_genes_by_counts', 'log1p_n_genes_by_counts', 'total_counts', 'log1p_total_counts', 'pct_counts_in_top_50_genes', 'pct_counts_in_top_100_genes', 'pct_counts_in_top_200_genes', 'pct_counts_in_top_500_genes', 'pct_counts_mt', 'pct_counts_ribo'\n",
       "    var: 'n_cells_by_counts', 'mean_counts', 'log1p_mean_counts', 'pct_dropout_by_counts', 'total_counts', 'log1p_total_counts', 'n_cells', 'mt', 'ribo', 'hb'"
      ]
     },
     "execution_count": 27,
     "metadata": {},
     "output_type": "execute_result"
    }
   ],
   "source": [
    "adata_clean"
   ]
  },
  {
   "cell_type": "code",
   "execution_count": 28,
   "id": "5405e828-c011-4c32-a9c4-1cb235c4eb05",
   "metadata": {
    "scrolled": true
   },
   "outputs": [
    {
     "data": {
      "text/plain": [
       "Text(0, 0.5, 'Frequency')"
      ]
     },
     "execution_count": 28,
     "metadata": {},
     "output_type": "execute_result"
    },
    {
     "data": {
      "image/png": "[encoded data removed]",
      "text/plain": [
       "<Figure size 640x480 with 1 Axes>"
      ]
     },
     "metadata": {},
     "output_type": "display_data"
    }
   ],
   "source": [
    "# just double check: there must be no cell with MT > 15\n",
    "plt.hist(adata_clean.obs['pct_counts_mt'], 100);\n",
    "plt.xlabel('% MT-content', fontsize = 14)\n",
    "plt.ylabel('Frequency', fontsize = 14)"
   ]
  },
  {
   "cell_type": "code",
   "execution_count": 29,
   "id": "29604228-bbe6-4ad0-a90a-2c9623e0f5f6",
   "metadata": {},
   "outputs": [],
   "source": [
    "adata_clean2 = adata_clean[adata_clean.obs['pct_counts_ribo'] < 15, :]"
   ]
  },
  {
   "cell_type": "code",
   "execution_count": 30,
   "id": "879a1766-9d39-4486-ba0a-35e187017acc",
   "metadata": {},
   "outputs": [],
   "source": [
    "adata_clean2 = adata_clean[:, ~adata_clean.var_names.str.startswith(('RPS', 'RPL'))]"
   ]
  },
  {
   "cell_type": "code",
   "execution_count": 31,
   "id": "0b388991-458a-4f5e-8783-b6201bd50b4f",
   "metadata": {},
   "outputs": [
    {
     "data": {
      "text/plain": [
       "View of AnnData object with n_obs × n_vars = 20382 × 15090\n",
       "    obs: 'batch_id', 'n_genes_by_counts', 'log1p_n_genes_by_counts', 'total_counts', 'log1p_total_counts', 'pct_counts_in_top_50_genes', 'pct_counts_in_top_100_genes', 'pct_counts_in_top_200_genes', 'pct_counts_in_top_500_genes', 'pct_counts_mt', 'pct_counts_ribo'\n",
       "    var: 'n_cells_by_counts', 'mean_counts', 'log1p_mean_counts', 'pct_dropout_by_counts', 'total_counts', 'log1p_total_counts', 'n_cells', 'mt', 'ribo', 'hb'"
      ]
     },
     "execution_count": 31,
     "metadata": {},
     "output_type": "execute_result"
    }
   ],
   "source": [
    "adata_clean2"
   ]
  },
  {
   "cell_type": "code",
   "execution_count": 32,
   "id": "5f13a8ae-0d12-4d4d-b473-1cd418856646",
   "metadata": {},
   "outputs": [],
   "source": [
    "adata_clean2.write_h5ad('/Users/sangeevanvellappan/Desktop/Erdos_Nov2024/Data/processed_adata.h5ad')"
   ]
  }
 ],
 "metadata": {
  "kernelspec": {
   "display_name": "Python 3 (ipykernel)",
   "language": "python",
   "name": "python3"
  },
  "language_info": {
   "codemirror_mode": {
    "name": "ipython",
    "version": 3
   },
   "file_extension": ".py",
   "mimetype": "text/x-python",
   "name": "python",
   "nbconvert_exporter": "python",
   "pygments_lexer": "ipython3",
   "version": "3.9.19"
  },
  "mystnb": {
   "execution_mode": "off"
  },
  "widgets": {
   "application/vnd.jupyter.widget-state+json": {
    "state": {},
    "version_major": 2,
    "version_minor": 0
   }
  }
 },
 "nbformat": 4,
 "nbformat_minor": 5
}
